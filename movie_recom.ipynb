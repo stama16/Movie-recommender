{
 "cells": [
  {
   "cell_type": "markdown",
   "metadata": {
    "collapsed": false
   },
   "source": [
    "# Unsupervised Learning app. "
   ]
  },
  {
   "cell_type": "markdown",
   "metadata": {
    "collapsed": false
   },
   "source": [
    "## Inserting the Dataset"
   ]
  },
  {
   "cell_type": "code",
   "execution_count": 7,
   "metadata": {
    "collapsed": true
   },
   "outputs": [
   ],
   "source": [
    "from io import StringIO\n",
    "import requests\n",
    "import json\n",
    "import pandas as pd\n",
    "\n",
    "# @hidden_cell\n",
    "# This function accesses a file in your Object Storage. The definition contains your credentials.\n",
    "# You might want to remove those credentials before you share your notebook.\n",
    "def get_object_storage_file_with_credentials_38ba68786cf84e1cbb5cc80f5a49fbed(container, filename):\n",
    "    \"\"\"This functions returns a StringIO object containing\n",
    "    the file content from Bluemix Object Storage.\"\"\"\n",
    "\n",
    "    url1 = ''.join(['https://identity.open.softlayer.com', '/v3/auth/tokens'])\n",
    "    data = {'auth': {'identity': {'methods': ['password'],\n",
    "            'password': {'user': {'name': 'member_e83bb2ed70e300a3a681580fec6a7d42c6cd8eb2','domain': {'id': 'dd180082cfbb4aba93677ea2bbc9d7ff'},\n",
    "            'password': 'y]333V2!.D=?Blh='}}}}}\n",
    "    headers1 = {'Content-Type': 'application/json'}\n",
    "    resp1 = requests.post(url=url1, data=json.dumps(data), headers=headers1)\n",
    "    resp1_body = resp1.json()\n",
    "    for e1 in resp1_body['token']['catalog']:\n",
    "        if(e1['type']=='object-store'):\n",
    "            for e2 in e1['endpoints']:\n",
    "                        if(e2['interface']=='public'and e2['region']=='dallas'):\n",
    "                            url2 = ''.join([e2['url'],'/', container, '/', filename])\n",
    "    s_subject_token = resp1.headers['x-subject-token']\n",
    "    headers2 = {'X-Auth-Token': s_subject_token, 'accept': 'application/json'}\n",
    "    resp2 = requests.get(url=url2, headers=headers2)\n",
    "    return StringIO(resp2.text)\n",
    "\n",
    "# Your data file was loaded into a StringIO object and you can process the data.\n",
    "# Please read the documentation of pandas to learn more about your possibilities to load your data.\n",
    "# pandas documentation: http://pandas.pydata.org/pandas-docs/stable/io.html\n",
    "df_data_1 = pd.read_csv(get_object_storage_file_with_credentials_38ba68786cf84e1cbb5cc80f5a49fbed('DefaultProjectankynotpankygmailcom', 'movieDBe.csv'), sep='\\t',  header=None, quoting=3)\n",
    "df_data_2 = pd.read_csv(get_object_storage_file_with_credentials_38ba68786cf84e1cbb5cc80f5a49fbed('DefaultProjectankynotpankygmailcom', 'seedb.csv'),  header=None)"
   ]
  },
  {
   "cell_type": "code",
   "execution_count": 8,
   "metadata": {
    "collapsed": true
   },
   "outputs": [
   ],
   "source": [
    "import numpy as np\n",
    "# insert your team seed number\n",
    "team_seed_number = 64\n",
    "my_index = df_data_2.iloc[team_seed_number,:].values\n",
    "titles = df_data_1.iloc[:, [2]].values[my_index] # movie titles (string)\n",
    "categories = df_data_1.iloc[:, [3]].values[my_index] # movie categories (string)\n",
    "bins = df_data_1.iloc[:, [4]]\n",
    "catbins = bins[4].str.split(',', expand=True).values.astype(np.float)[my_index] # movie categories in binary form (1 feature per category)\n",
    "summaries =  df_data_1.iloc[:, [5]].values[my_index] # movie summaries (string)\n",
    "corpus = summaries[:,0].tolist() # list form of summaries"
   ]
  },
  {
   "cell_type": "markdown",
   "metadata": {
    "collapsed": false
   },
   "source": [
    "- The **titles** matrix contains all the movie titles.\n",
    "- The **categories** matrix contains the movie categories in string format. Eg: '\"Tragedy\",  \"Indie\",  \"Punk rock\",  \"Addiction Drama\",  \"Cult\",  \"Musical\",  \"Drama\",  \"Biopic \\[feature\\]\",  \"Romantic drama\",  \"Romance Film\",  \"Biographical film\"'. It is comma separated strings list, with each string representing a category.\n",
    "- The **catbins** matrix contains the categories of the movies but in binary code ([one hot encoding](https://hackernoon.com/what-is-one-hot-encoding-why-and-when-do-you-have-to-use-it-e3c6186d008f)). Its dimensinon is 5.000 x 322 (as much as the categories). If the movie is of a certain category the matrix takes the 1 value in that position otherwise it takes zero .\n",
    "- The **summaries** matrix and the **corpus** list contain all the summaries of the movies in string format. Eg: *'The film is based on the real story of a Soviet Internal Troops soldier who killed his entire unit  as a result of Dedovschina. The plot unfolds mostly on board of the prisoner transport rail car guarded by a unit of paramilitary conscripts.'*\n",
    "- As **ID** for each movie we the consider its line number."
   ]
  },
  {
   "cell_type": "markdown",
   "metadata": {
    "collapsed": false
   },
   "source": [
    "# Application: Movie recommender based on content\n",
    "<img src=\"http://clture.org/wp-content/uploads/2015/12/Netflix-Streaming-End-of-Year-Posts.jpg\" width=\"50%\">"
   ]
  },
  {
   "cell_type": "code",
   "execution_count": 9,
   "metadata": {
    "collapsed": true
   },
   "outputs": [
   ],
   "source": [
    "from sklearn.feature_extraction.text import TfidfVectorizer\n",
    "vectorizer = TfidfVectorizer(input='content',stop_words='english',max_df=0.02, min_df=0.005)\n",
    "vectorizer.fit(corpus)\n",
    "corpus_tf_idf = vectorizer.transform(corpus)"
   ]
  },
  {
   "cell_type": "code",
   "execution_count": 10,
   "metadata": {
    "collapsed": true,
    "scrolled": true
   },
   "outputs": [
   ],
   "source": [
    "from sklearn.metrics.pairwise import cosine_similarity\n",
    "cosine_similarity_calc=cosine_similarity(corpus_tf_idf[1995],corpus_tf_idf,dense_output=True)"
   ]
  },
  {
   "cell_type": "code",
   "execution_count": 11,
   "metadata": {
    "collapsed": false
   },
   "outputs": [
    {
     "name": "stdout",
     "output_type": "stream",
     "text": [
      "[[1995 2138 2224 ..., 1748 1764 4999]]\n",
      "('Movie ID = 1995', array(['Sonny'], dtype=object), array([ \"Sonny  is the son of Jewel  who runs a small brothel in New Orleans, Louisiana. Sonny returns home from the army, staying with his mother while waiting to start the job an army buddy of his promised him. Jewel tries to convince Sonny to come back to working for her as he had before the army, saying many of his old clients still miss him and he was the best gigolo she had ever had. Sonny repeatedly turns her down, wanting to leave that life behind. However, the job he was promised never materializes and he is forced to return to working for his mother. Jewel had recently recruited a new girl to the brothel, Carol , who meets Sonny and falls in love with him. They talk of getting out together. One of Carol's clients, an older man, proposes to her. She initially declines, hoping to go away with Sonny. She and Sonny fall out as he fails to make an effort to get out of the business, instead becoming increasingly introverted and depressed, with occasional outbursts as he looks for more work. Ultimately, Carol accepts the marriage proposal.\"], dtype=object), array(['\"Crime Fiction\",  \"Period piece\",  \"Drama\",  \"Indie\"'], dtype=object))\n"
     ]
    }
   ],
   "source": [
    "indices = (-cosine_similarity_calc).argsort()\n",
    "print indices\n",
    "target_movie=1995\n",
    "print ('Movie ID = 1995',titles[1995],summaries[1995],categories[1995])"
   ]
  },
  {
   "cell_type": "code",
   "execution_count": 12,
   "metadata": {
    "collapsed": false,
    "scrolled": true
   },
   "outputs": [
    {
     "data": {
      "text/plain": [
       "['corpus_tf_idf.pkl']"
      ]
     },
     "execution_count": 12,
     "metadata": {
     },
     "output_type": "execute_result"
    }
   ],
   "source": [
    "from sklearn.externals import joblib\n",
    "joblib.dump(corpus_tf_idf, 'corpus_tf_idf.pkl') "
   ]
  },
  {
   "cell_type": "code",
   "execution_count": 13,
   "metadata": {
    "collapsed": true
   },
   "outputs": [
   ],
   "source": [
    "def content_recommender(target_movie,max_recommendations):\n",
    "    cosine_similarity_calc = cosine_similarity(corpus_tf_idf[target_movie],corpus_tf_idf,dense_output=True)\n",
    "    indices = (-cosine_similarity_calc).argsort()\n",
    "    \n",
    "    print 'Target movie:',target_movie\n",
    "    print 'Target movie:',target_movie,'\\n','Title:',str(titles[target_movie]),'Synopsis:',str(summaries[target_movie]),'Categories:',str(categories[target_movie])\n",
    "    print '\\n'\n",
    "    print '***',max_recommendations, 'Movies for you! '\n",
    "    for i in range(1,(max_recommendations+1)):\n",
    "        print i,'.'\n",
    "        print 'Movie ID:',str(indices[:,i])\n",
    "        print 'Title:', str(titles[indices[:,i]])\n",
    "        print 'Synopsis:', str(summaries[indices[:,i]])\n",
    "        print 'Categories:', str(categories[indices[:,i]])\n",
    "    return\n",
    "    "
   ]
  },
  {
   "cell_type": "code",
   "execution_count": 14,
   "metadata": {
    "collapsed": false
   },
   "outputs": [
    {
     "name": "stdout",
     "output_type": "stream",
     "text": [
      "Target movie: 9\n",
      "Target movie: 9 \n",
      "Title: ['Chicken Hawk: Men Who Love Boys'] Synopsis: [ \"The film describes the organization and its history. The film attempts to provide context by discussing Ancient Greek pederasty. It presents a series of interviews with NAMBLA members. They describe their feelings regarding young boys and justifications for these relationships. A camera follows a group of NAMBLA members as they participate in the 1993 March on Washington for Lesbian, Gay and Bi Equal Rights and Liberation. They give reasons why NAMBLA should be included in the gay rights movement, to the disapproval of other attendees. According to a 2002  Intermountain Jewish News article, the July 8, 1994 edition of Newsday reported poet and free speech advocate Allen Ginsberg, NAMBLA's most famous member and defender,\"] Categories: ['\"Crime Fiction\",  \"Documentary\"']\n",
      "\n",
      "\n",
      "*** 3 Movies for you! \n",
      "1 .\n",
      "Movie ID: [2508]\n",
      "Title: [['The Butch Factor']]\n",
      "Synopsis: [[ 'The documentary tackles meanings of masculinity in gay men and culture through insightful interviews with a great number of diverse gay men mixed with fast-paced sometimes archival tour of diverse groups of gay males from 1970s to contemporary times. It also includes analytical and expert presentations writers, teachers, psychologists about their views of gay culture, masculinity, fetishism, discrimination etc. The documentary discusses how the gay \"butch\" men often feel alone in their plight to integrate in general gay life as masculine males. This film, despites \"eye candy\" shots of men, breaks through many stereotypes as well. Discussions include leather men, bears, rodeo riders, muscle men, construction workers, truck drivers, policemen, sportsmen and others, intertwined with questions of homophobia, stereotyping, metrosexuality, effeminacy, fashion.']]\n",
      "Categories: [['\"Documentary\"']]\n",
      "2 .\n",
      "Movie ID: [3201]\n",
      "Title: [['Le Poisson noy\\xc3\\xa9']]\n",
      "Synopsis: [[ 'This fable tells of an old fishmonger who dies and resuscitates several times. The man is a despicable character and his resurrections gives rise to general curiosity. But superstition soon takes over in the villagers\\xe2\\x80\\x99 hearts, they believe nature should reclaim its rights.']]\n",
      "Categories: [['\"Short Film\"']]\n",
      "3 .\n",
      "Movie ID: [516]\n",
      "Title: [['Perdona bonita, pero Lucas me quer\\xc3\\xada a m\\xc3\\xad']]\n",
      "Synopsis: [[ 'Three gay friends rent a room of the flat they share to a boy they all fall in love with, and who later dies. The three of them are suspects of the crime, as are the rest of the characters in the film.']]\n",
      "Categories: [['\"Comedy\"']]\n"
     ]
    }
   ],
   "source": [
    "content_recommender(9,3)"
   ]
  },
  {
   "cell_type": "code",
   "execution_count": 15,
   "metadata": {
    "collapsed": false,
    "scrolled": true
   },
   "outputs": [
    {
     "data": {
      "text/plain": [
       "['corpus_tf_idf.pkl']"
      ]
     },
     "execution_count": 15,
     "metadata": {
     },
     "output_type": "execute_result"
    }
   ],
   "source": [
    "from sklearn.externals import joblib\n",
    "joblib.dump(corpus_tf_idf, 'corpus_tf_idf.pkl') "
   ]
  },
  {
   "cell_type": "code",
   "execution_count": 16,
   "metadata": {
    "collapsed": true
   },
   "outputs": [
   ],
   "source": [
    "corpus_tf_idf = joblib.load('corpus_tf_idf.pkl')"
   ]
  },
  {
   "cell_type": "code",
   "execution_count": 17,
   "metadata": {
    "collapsed": false,
    "scrolled": true
   },
   "outputs": [
    {
     "name": "stdout",
     "output_type": "stream",
     "text": [
      "Lab3_Classification_1.1.ipynb\tcorpus_tf_idf.pkl  test.ipynb\r\n",
      "Lab_3_Classification_1.2.ipynb\tlab2.ipynb\r\n"
     ]
    }
   ],
   "source": [
    "!ls"
   ]
  },
  {
   "cell_type": "markdown",
   "metadata": {
    "collapsed": false
   },
   "source": [
    "## Creating dataset for SOM training (unfinished code)\n",
    "Using Self Organizing Maps (SOM) I will create a 2 dimensional grid with all the movies of our collection based on content and category."
   ]
  },
  {
   "cell_type": "code",
   "execution_count": 18,
   "metadata": {
    "collapsed": true
   },
   "outputs": [
   ],
   "source": [
    "def build_final_set(doc_limit = 5000):\n",
    "    # convert sparse tf_idf to dense tf_idf representation\n",
    "    dense_tf_idf = corpus_tf_idf.toarray()[0:doc_limit,:]\n",
    "    final_set = np.hstack((dense_tf_idf, catbins[0:doc_limit,:]))\n",
    "    return final_set"
   ]
  },
  {
   "cell_type": "code",
   "execution_count": 2,
   "metadata": {
    "collapsed": false
   },
   "outputs": [
    {
     "ename": "NameError",
     "evalue": "global name 'corpus_tf_idf' is not defined",
     "output_type": "error",
     "traceback": [
      "\u001b[0;31m---------------------------------------------------------------------------\u001b[0m",
      "\u001b[0;31mNameError\u001b[0m                                 Traceback (most recent call last)",
      "\u001b[0;32m<ipython-input-2-070be49479c1>\u001b[0m in \u001b[0;36m<module>\u001b[0;34m()\u001b[0m\n\u001b[0;32m----> 1\u001b[0;31m \u001b[0mfinal_set\u001b[0m \u001b[0;34m=\u001b[0m \u001b[0mbuild_final_set\u001b[0m\u001b[0;34m(\u001b[0m\u001b[0;34m)\u001b[0m\u001b[0;34m\u001b[0m\u001b[0m\n\u001b[0m",
      "\u001b[0;32m<ipython-input-1-e07a843a6f44>\u001b[0m in \u001b[0;36mbuild_final_set\u001b[0;34m(doc_limit)\u001b[0m\n\u001b[1;32m      1\u001b[0m \u001b[0;32mdef\u001b[0m \u001b[0mbuild_final_set\u001b[0m\u001b[0;34m(\u001b[0m\u001b[0mdoc_limit\u001b[0m \u001b[0;34m=\u001b[0m \u001b[0;36m5000\u001b[0m\u001b[0;34m)\u001b[0m\u001b[0;34m:\u001b[0m\u001b[0;34m\u001b[0m\u001b[0m\n\u001b[1;32m      2\u001b[0m     \u001b[0;31m# convert sparse tf_idf to dense tf_idf representation\u001b[0m\u001b[0;34m\u001b[0m\u001b[0;34m\u001b[0m\u001b[0m\n\u001b[0;32m----> 3\u001b[0;31m     \u001b[0mdense_tf_idf\u001b[0m \u001b[0;34m=\u001b[0m \u001b[0mcorpus_tf_idf\u001b[0m\u001b[0;34m.\u001b[0m\u001b[0mtoarray\u001b[0m\u001b[0;34m(\u001b[0m\u001b[0;34m)\u001b[0m\u001b[0;34m[\u001b[0m\u001b[0;36m0\u001b[0m\u001b[0;34m:\u001b[0m\u001b[0mdoc_limit\u001b[0m\u001b[0;34m,\u001b[0m\u001b[0;34m:\u001b[0m\u001b[0;34m]\u001b[0m\u001b[0;34m\u001b[0m\u001b[0m\n\u001b[0m\u001b[1;32m      4\u001b[0m     \u001b[0mfinal_set\u001b[0m \u001b[0;34m=\u001b[0m \u001b[0mnp\u001b[0m\u001b[0;34m.\u001b[0m\u001b[0mhstack\u001b[0m\u001b[0;34m(\u001b[0m\u001b[0;34m(\u001b[0m\u001b[0mdense_tf_idf\u001b[0m\u001b[0;34m,\u001b[0m \u001b[0mcatbins\u001b[0m\u001b[0;34m[\u001b[0m\u001b[0;36m0\u001b[0m\u001b[0;34m:\u001b[0m\u001b[0mdoc_limit\u001b[0m\u001b[0;34m,\u001b[0m\u001b[0;34m:\u001b[0m\u001b[0;34m]\u001b[0m\u001b[0;34m)\u001b[0m\u001b[0;34m)\u001b[0m\u001b[0;34m\u001b[0m\u001b[0m\n\u001b[1;32m      5\u001b[0m     \u001b[0;32mreturn\u001b[0m \u001b[0mfinal_set\u001b[0m\u001b[0;34m\u001b[0m\u001b[0m\n",
      "\u001b[0;31mNameError\u001b[0m: global name 'corpus_tf_idf' is not defined"
     ]
    }
   ],
   "source": [
    "final_set = build_final_set()"
   ]
  },
  {
   "cell_type": "markdown",
   "metadata": {
    "collapsed": false
   },
   "source": [
    "## SOM map trainnig\n"
   ]
  },
  {
   "cell_type": "code",
   "execution_count": 19,
   "metadata": {
    "collapsed": false
   },
   "outputs": [
    {
     "name": "stdout",
     "output_type": "stream",
     "text": [
      "Requirement already satisfied: somoclu in /home/nbuser/anaconda2_501/lib/python2.7/site-packages\r\n",
      "Requirement already satisfied: numpy in /home/nbuser/anaconda2_501/lib/python2.7/site-packages (from somoclu)\r\n",
      "Requirement already satisfied: matplotlib in /home/nbuser/anaconda2_501/lib/python2.7/site-packages (from somoclu)\r\n",
      "Requirement already satisfied: six>=1.10 in /home/nbuser/anaconda2_501/lib/python2.7/site-packages (from matplotlib->somoclu)\r\n",
      "Requirement already satisfied: python-dateutil>=2.0 in /home/nbuser/anaconda2_501/lib/python2.7/site-packages (from matplotlib->somoclu)\r\n",
      "Requirement already satisfied: backports.functools_lru_cache in /home/nbuser/anaconda2_501/lib/python2.7/site-packages (from matplotlib->somoclu)\r\n",
      "Requirement already satisfied: subprocess32 in /home/nbuser/anaconda2_501/lib/python2.7/site-packages (from matplotlib->somoclu)\r\n",
      "Requirement already satisfied: pytz in /home/nbuser/anaconda2_501/lib/python2.7/site-packages (from matplotlib->somoclu)\r\n",
      "Requirement already satisfied: cycler>=0.10 in /home/nbuser/anaconda2_501/lib/python2.7/site-packages (from matplotlib->somoclu)\r\n",
      "Requirement already satisfied: pyparsing!=2.0.4,!=2.1.2,!=2.1.6,>=2.0.1 in /home/nbuser/anaconda2_501/lib/python2.7/site-packages (from matplotlib->somoclu)\r\n"
     ]
    }
   ],
   "source": [
    "# install somoclu\n",
    "!pip install somoclu\n",
    "# import sompoclu, matplotlib\n",
    "import somoclu\n",
    "import matplotlib\n",
    "# we will plot inside the notebook and not in separate window\n",
    "%matplotlib inline"
   ]
  },
  {
   "cell_type": "code",
   "execution_count": 20,
   "metadata": {
    "collapsed": false
   },
   "outputs": [
   ],
   "source": [
    "som=somoclu.Somoclu(10,10,None,0,'planar','rectangular',False,'gaussian',0.5,None)"
   ]
  },
  {
   "cell_type": "code",
   "execution_count": 35,
   "metadata": {
    "collapsed": false
   },
   "outputs": [
    {
     "name": "stdout",
     "output_type": "stream",
     "text": [
      "Warning: data was not float32. A 32-bit copy was made\n"
     ]
    }
   ],
   "source": [
    "final_set=build_final_set(2000)\n",
    "train_set=som.train(final_set,100)\n"
   ]
  },
  {
   "cell_type": "code",
   "execution_count": 38,
   "metadata": {
    "collapsed": false
   },
   "outputs": [
   ],
   "source": [
    "train_set_sur=som.get_surface_state(train_set)\n",
    "bmus=som.get_bmus(train_set_sur)"
   ]
  }
 ],
 "metadata": {
  "kernelspec": {
   "display_name": "Python 2 (SageMath)",
   "language": "python",
   "name": "python2"
  },
  "language_info": {
   "codemirror_mode": {
    "name": "ipython",
    "version": 2
   },
   "file_extension": ".py",
   "mimetype": "text/x-python",
   "name": "python",
   "nbconvert_exporter": "python",
   "pygments_lexer": "ipython2",
   "version": "2.7.15"
  }
 },
 "nbformat": 4,
 "nbformat_minor": 0
}